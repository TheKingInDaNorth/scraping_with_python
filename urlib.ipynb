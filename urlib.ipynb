{
 "cells": [
  {
   "cell_type": "code",
   "execution_count": 1,
   "id": "governmental-convertible",
   "metadata": {},
   "outputs": [],
   "source": [
    "import urllib\n",
    "import webbrowser\n",
    "\n",
    "from pprint import pprint"
   ]
  },
  {
   "cell_type": "code",
   "execution_count": 2,
   "id": "speaking-donna",
   "metadata": {},
   "outputs": [],
   "source": [
    "bin_url = 'https://httpbin.org/'"
   ]
  },
  {
   "cell_type": "code",
   "execution_count": 3,
   "id": "quiet-willow",
   "metadata": {},
   "outputs": [
    {
     "data": {
      "text/plain": [
       "True"
      ]
     },
     "execution_count": 3,
     "metadata": {},
     "output_type": "execute_result"
    }
   ],
   "source": [
    "webbrowser.open(bin_url)"
   ]
  },
  {
   "cell_type": "code",
   "execution_count": 4,
   "id": "respected-belfast",
   "metadata": {},
   "outputs": [
    {
     "data": {
      "text/plain": [
       "<http.client.HTTPResponse at 0x2a209397400>"
      ]
     },
     "execution_count": 4,
     "metadata": {},
     "output_type": "execute_result"
    }
   ],
   "source": [
    "resp = urllib.request.urlopen(bin_url)\n",
    "resp"
   ]
  },
  {
   "cell_type": "code",
   "execution_count": 5,
   "id": "brave-context",
   "metadata": {},
   "outputs": [
    {
     "data": {
      "text/plain": [
       "200"
      ]
     },
     "execution_count": 5,
     "metadata": {},
     "output_type": "execute_result"
    }
   ],
   "source": [
    "resp.geturl()\n",
    "resp.getcode()"
   ]
  },
  {
   "cell_type": "code",
   "execution_count": 6,
   "id": "indoor-assist",
   "metadata": {},
   "outputs": [
    {
     "data": {
      "text/plain": [
       "'https://httpbin.org/'"
      ]
     },
     "execution_count": 6,
     "metadata": {},
     "output_type": "execute_result"
    }
   ],
   "source": [
    "resp.geturl()"
   ]
  },
  {
   "cell_type": "code",
   "execution_count": 7,
   "id": "handmade-constraint",
   "metadata": {},
   "outputs": [
    {
     "name": "stdout",
     "output_type": "stream",
     "text": [
      "('<!DOCTYPE html>\\n'\n",
      " '<html lang=\"en\">\\n'\n",
      " '\\n'\n",
      " '<head>\\n'\n",
      " '    <meta charset=\"UTF-8\">\\n'\n",
      " '    <title>httpbin.org</title>\\n'\n",
      " '    <link '\n",
      " 'href=\"https://fonts.googleapis.com/css?family=Open+Sans:400,700|Source+Code+Pro:300,600|Titillium+Web:400,600,700\"\\n'\n",
      " '        rel=\"stylesheet\">\\n'\n",
      " '    <link rel=\"stylesheet\" type=\"text/css\" '\n",
      " 'href=\"/flasgger_static/swagger-ui.css\">\\n'\n",
      " '    <link rel=\"icon\" type=\"image/png\" href=\"/static/favicon.ico\" '\n",
      " 'sizes=\"64x64 32x32 16x16\" />\\n'\n",
      " '    <style>\\n'\n",
      " '        html {\\n'\n",
      " '            box-sizing: border-box;\\n'\n",
      " '            overflow: -moz-scrollbars-vertical;\\n'\n",
      " '            overflow-y: scroll;\\n'\n",
      " '        }\\n'\n",
      " '\\n'\n",
      " '        *,\\n'\n",
      " '        *:before,\\n'\n",
      " '        *:after {\\n'\n",
      " '            box-sizing: inherit;\\n'\n",
      " '        }\\n'\n",
      " '\\n'\n",
      " '        body {\\n'\n",
      " '            margin: 0;\\n'\n",
      " '            background: #fafafa;\\n'\n",
      " '        }\\n'\n",
      " '    </style>\\n'\n",
      " '</head>\\n'\n",
      " '\\n'\n",
      " '<body>\\n'\n",
      " '    <a href=\"https://github.com/requests/httpbin\" class=\"github-corner\" '\n",
      " 'aria-label=\"View source on Github\">\\n'\n",
      " '        <svg width=\"80\" height=\"80\" viewBox=\"0 0 250 250\" '\n",
      " 'style=\"fill:#151513; color:#fff; position: absolute; top: 0; border: 0; '\n",
      " 'right: 0;\"\\n'\n",
      " '            aria-hidden=\"true\">\\n'\n",
      " '            <path d=\"M0,0 L115,115 L130,115 L142,142 L250,250 L250,0 '\n",
      " 'Z\"></path>\\n'\n",
      " '            <path d=\"M128.3,109.0 C113.8,99.7 119.0,89.6 119.0,89.6 '\n",
      " 'C122.0,82.7 120.5,78.6 120.5,78.6 C119.2,72.0 123.4,76.3 123.4,76.3 '\n",
      " 'C127.3,80.9 125.5,87.3 125.5,87.3 C122.9,97.6 130.6,101.9 134.4,103.2\"\\n'\n",
      " '                fill=\"currentColor\" style=\"transform-origin: 130px 106px;\" '\n",
      " 'class=\"octo-arm\"></path>\\n'\n",
      " '            <path d=\"M115.0,115.0 C114.9,115.1 118.7,116.5 119.8,115.4 '\n",
      " 'L133.7,101.6 C136.9,99.2 139.9,98.4 142.2,98.6 C133.8,88.0 127.5,74.4 '\n",
      " '143.8,58.0 C148.5,53.4 154.0,51.2 159.7,51.0 C160.3,49.4 163.2,43.6 '\n",
      " '171.4,40.1 C171.4,40.1 176.1,42.5 178.8,56.2 C183.1,58.6 187.2,61.8 '\n",
      " '190.9,65.4 C194.5,69.0 197.7,73.2 200.1,77.6 C213.8,80.2 216.3,84.9 '\n",
      " '216.3,84.9 C212.7,93.1 206.9,96.0 205.4,96.6 C205.1,102.4 203.0,107.8 '\n",
      " '198.3,112.5 C181.9,128.9 168.3,122.5 157.7,114.1 C157.9,116.9 156.7,120.9 '\n",
      " '152.7,124.9 L141.0,136.5 C139.8,137.7 141.6,141.9 141.8,141.8 Z\"\\n'\n",
      " '                fill=\"currentColor\" class=\"octo-body\"></path>\\n'\n",
      " '        </svg>\\n'\n",
      " '    </a>\\n'\n",
      " '    <svg xmlns=\"http://www.w3.org/2000/svg\" '\n",
      " 'xmlns:xlink=\"http://www.w3.org/1999/xlink\" '\n",
      " 'style=\"position:absolute;width:0;height:0\">\\n'\n",
      " '        <defs>\\n'\n",
      " '            <symbol viewBox=\"0 0 20 20\" id=\"unlocked\">\\n'\n",
      " '                <path d=\"M15.8 8H14V5.6C14 2.703 12.665 1 10 1 7.334 1 6 '\n",
      " '2.703 6 5.6V6h2v-.801C8 3.754 8.797 3 10 3c1.203 0 2 .754 2 2.199V8H4c-.553 '\n",
      " '0-1 .646-1 1.199V17c0 .549.428 1.139.951 1.307l1.197.387C5.672 18.861 6.55 '\n",
      " '19 7.1 19h5.8c.549 0 1.428-.139 '\n",
      " '1.951-.307l1.196-.387c.524-.167.953-.757.953-1.306V9.199C17 8.646 16.352 8 '\n",
      " '15.8 8z\"></path>\\n'\n",
      " '            </symbol>\\n'\n",
      " '\\n'\n",
      " '            <symbol viewBox=\"0 0 20 20\" id=\"locked\">\\n'\n",
      " '                <path d=\"M15.8 8H14V5.6C14 2.703 12.665 1 10 1 7.334 1 6 '\n",
      " '2.703 6 5.6V8H4c-.553 0-1 .646-1 1.199V17c0 .549.428 1.139.951 '\n",
      " '1.307l1.197.387C5.672 18.861 6.55 19 7.1 19h5.8c.549 0 1.428-.139 '\n",
      " '1.951-.307l1.196-.387c.524-.167.953-.757.953-1.306V9.199C17 8.646 16.352 8 '\n",
      " '15.8 8zM12 8H8V5.199C8 3.754 8.797 3 10 3c1.203 0 2 .754 2 2.199V8z\"\\n'\n",
      " '                />\\n'\n",
      " '            </symbol>\\n'\n",
      " '\\n'\n",
      " '            <symbol viewBox=\"0 0 20 20\" id=\"close\">\\n'\n",
      " '                <path d=\"M14.348 14.849c-.469.469-1.229.469-1.697 0L10 '\n",
      " '11.819l-2.651 3.029c-.469.469-1.229.469-1.697 0-.469-.469-.469-1.229 '\n",
      " '0-1.697l2.758-3.15-2.759-3.152c-.469-.469-.469-1.228 0-1.697.469-.469 '\n",
      " '1.228-.469 1.697 0L10 8.183l2.651-3.031c.469-.469 1.228-.469 1.697 0 '\n",
      " '.469.469.469 1.229 0 1.697l-2.758 3.152 2.758 3.15c.469.469.469 1.229 0 '\n",
      " '1.698z\"\\n'\n",
      " '                />\\n'\n",
      " '            </symbol>\\n'\n",
      " '\\n'\n",
      " '            <symbol viewBox=\"0 0 20 20\" id=\"large-arrow\">\\n'\n",
      " '                <path d=\"M13.25 10L6.109 2.58c-.268-.27-.268-.707 '\n",
      " '0-.979.268-.27.701-.27.969 0l7.83 7.908c.268.271.268.709 0 .979l-7.83 '\n",
      " '7.908c-.268.271-.701.27-.969 0-.268-.269-.268-.707 0-.979L13.25 10z\"\\n'\n",
      " '                />\\n'\n",
      " '            </symbol>\\n'\n",
      " '\\n'\n",
      " '            <symbol viewBox=\"0 0 20 20\" id=\"large-arrow-down\">\\n'\n",
      " '                <path d=\"M17.418 6.109c.272-.268.709-.268.979 0s.271.701 0 '\n",
      " '.969l-7.908 7.83c-.27.268-.707.268-.979 0l-7.908-7.83c-.27-.268-.27-.701 '\n",
      " '0-.969.271-.268.709-.268.979 0L10 13.25l7.418-7.141z\"\\n'\n",
      " '                />\\n'\n",
      " '            </symbol>\\n'\n",
      " '\\n'\n",
      " '\\n'\n",
      " '            <symbol viewBox=\"0 0 24 24\" id=\"jump-to\">\\n'\n",
      " '                <path d=\"M19 7v4H5.83l3.58-3.59L8 6l-6 6 6 6 1.41-1.41L5.83 '\n",
      " '13H21V7z\" />\\n'\n",
      " '            </symbol>\\n'\n",
      " '\\n'\n",
      " '            <symbol viewBox=\"0 0 24 24\" id=\"expand\">\\n'\n",
      " '                <path d=\"M10 18h4v-2h-4v2zM3 6v2h18V6H3zm3 7h12v-2H6v2z\" />\\n'\n",
      " '            </symbol>\\n'\n",
      " '\\n'\n",
      " '        </defs>\\n'\n",
      " '    </svg>\\n'\n",
      " '\\n'\n",
      " '\\n'\n",
      " '    <div id=\"swagger-ui\">\\n'\n",
      " '        <div data-reactroot=\"\" class=\"swagger-ui\">\\n'\n",
      " '            <div>\\n'\n",
      " '                <div class=\"information-container wrapper\">\\n'\n",
      " '                    <section class=\"block col-12\">\\n'\n",
      " '                        <div class=\"info\">\\n'\n",
      " '                            <hgroup class=\"main\">\\n'\n",
      " '                                <h2 class=\"title\">httpbin.org\\n'\n",
      " '                                    <small>\\n'\n",
      " '                                        <pre class=\"version\">0.9.2</pre>\\n'\n",
      " '                                    </small>\\n'\n",
      " '                                </h2>\\n'\n",
      " '                                <pre class=\"base-url\">[ Base URL: '\n",
      " 'httpbin.org/ ]</pre>\\n'\n",
      " '                            </hgroup>\\n'\n",
      " '                            <div class=\"description\">\\n'\n",
      " '                                <div class=\"markdown\">\\n'\n",
      " '                                    <p>A simple HTTP Request &amp; Response '\n",
      " 'Service.\\n'\n",
      " '                                        <br>\\n'\n",
      " '                                        <br>\\n'\n",
      " '                                        <b>Run locally: </b>\\n'\n",
      " '                                        <code>$ docker run -p 80:80 '\n",
      " 'kennethreitz/httpbin</code>\\n'\n",
      " '                                    </p>\\n'\n",
      " '                                </div>\\n'\n",
      " '                            </div>\\n'\n",
      " '                            <div>\\n'\n",
      " '                                <div>\\n'\n",
      " '                                    <a href=\"https://kennethreitz.org\" '\n",
      " 'target=\"_blank\">the developer - Website</a>\\n'\n",
      " '                                </div>\\n'\n",
      " '                                <a href=\"mailto:me@kennethreitz.org\">Send '\n",
      " 'email to the developer</a>\\n'\n",
      " '                            </div>\\n'\n",
      " '                        </div>\\n'\n",
      " '                        <!-- ADDS THE LOADER SPINNER -->\\n'\n",
      " '                        <div class=\"loading-container\">\\n'\n",
      " '                            <div class=\"loading\"></div>\\n'\n",
      " '                        </div>\\n'\n",
      " '\\n'\n",
      " '                    </section>\\n'\n",
      " '                </div>\\n'\n",
      " '            </div>\\n'\n",
      " '        </div>\\n'\n",
      " '    </div>\\n'\n",
      " '\\n'\n",
      " '\\n'\n",
      " \"    <div class='swagger-ui'>\\n\"\n",
      " '        <div class=\"wrapper\">\\n'\n",
      " '            <section class=\"clear\">\\n'\n",
      " '                <span style=\"float: right;\">\\n'\n",
      " '                    [Powered by\\n'\n",
      " '                    <a target=\"_blank\" '\n",
      " 'href=\"https://github.com/rochacbruno/flasgger\">Flasgger</a>]\\n'\n",
      " '                    <br>\\n'\n",
      " '                </span>\\n'\n",
      " '            </section>\\n'\n",
      " '        </div>\\n'\n",
      " '    </div>\\n'\n",
      " '\\n'\n",
      " '\\n'\n",
      " '\\n'\n",
      " '    <script src=\"/flasgger_static/swagger-ui-bundle.js\"> </script>\\n'\n",
      " '    <script src=\"/flasgger_static/swagger-ui-standalone-preset.js\"> '\n",
      " '</script>\\n'\n",
      " \"    <script src='/flasgger_static/lib/jquery.min.js' \"\n",
      " \"type='text/javascript'></script>\\n\"\n",
      " '    <script>\\n'\n",
      " '\\n'\n",
      " '        window.onload = function () {\\n'\n",
      " '            \\n'\n",
      " '\\n'\n",
      " '            fetch(\"/spec.json\")\\n'\n",
      " '                .then(function (response) {\\n'\n",
      " '                    response.json()\\n'\n",
      " '                        .then(function (json) {\\n'\n",
      " '                            var current_protocol = '\n",
      " 'window.location.protocol.slice(0, -1);\\n'\n",
      " '                            if (json.schemes[0] != current_protocol) {\\n'\n",
      " '                                // Switches scheme to the current in use\\n'\n",
      " '                                var other_protocol = json.schemes[0];\\n'\n",
      " '                                json.schemes[0] = current_protocol;\\n'\n",
      " '                                json.schemes[1] = other_protocol;\\n'\n",
      " '\\n'\n",
      " '                            }\\n'\n",
      " '                            json.host = window.location.host;  // sets the '\n",
      " 'current host\\n'\n",
      " '\\n'\n",
      " '                            const ui = SwaggerUIBundle({\\n'\n",
      " '                                spec: json,\\n'\n",
      " '                                validatorUrl: null,\\n'\n",
      " \"                                dom_id: '#swagger-ui',\\n\"\n",
      " '                                deepLinking: true,\\n'\n",
      " '                                jsonEditor: true,\\n'\n",
      " '                                docExpansion: \"none\",\\n'\n",
      " '                                apisSorter: \"alpha\",\\n'\n",
      " '                                //operationsSorter: \"alpha\",\\n'\n",
      " '                                presets: [\\n'\n",
      " '                                    SwaggerUIBundle.presets.apis,\\n'\n",
      " '                                    // yay ES6 modules ↘\\n'\n",
      " '                                    Array.isArray(SwaggerUIStandalonePreset) '\n",
      " '? SwaggerUIStandalonePreset : SwaggerUIStandalonePreset.default\\n'\n",
      " '                                ],\\n'\n",
      " '                                plugins: [\\n'\n",
      " '                                    SwaggerUIBundle.plugins.DownloadUrl\\n'\n",
      " '                                ],\\n'\n",
      " '            \\n'\n",
      " '            // layout: \"StandaloneLayout\"  // uncomment to enable the green '\n",
      " 'top header\\n'\n",
      " '        })\\n'\n",
      " '\\n'\n",
      " '        window.ui = ui\\n'\n",
      " '\\n'\n",
      " '        // uncomment to rename the top brand if layout is enabled\\n'\n",
      " '        // $(\".topbar-wrapper .link '\n",
      " 'span\").replaceWith(\"<span>httpbin</span>\");\\n'\n",
      " '        })\\n'\n",
      " '    })\\n'\n",
      " '}\\n'\n",
      " \"    </script>  <div class='swagger-ui'>\\n\"\n",
      " '    <div class=\"wrapper\">\\n'\n",
      " '        <section class=\"block col-12 block-desktop col-12-desktop\">\\n'\n",
      " '            <div>\\n'\n",
      " '\\n'\n",
      " '                <h2>Other Utilities</h2>\\n'\n",
      " '\\n'\n",
      " '                <ul>\\n'\n",
      " '                    <li>\\n'\n",
      " '                        <a href=\"/forms/post\">HTML form</a> that posts to '\n",
      " '/post /forms/post</li>\\n'\n",
      " '                </ul>\\n'\n",
      " '\\n'\n",
      " '                <br />\\n'\n",
      " '                <br />\\n'\n",
      " '            </div>\\n'\n",
      " '        </section>\\n'\n",
      " '    </div>\\n'\n",
      " '</div>\\n'\n",
      " '</body>\\n'\n",
      " '\\n'\n",
      " '</html>')\n"
     ]
    }
   ],
   "source": [
    "data = resp.read()\n",
    "pprint(data.decode('UTF-8'))"
   ]
  },
  {
   "cell_type": "code",
   "execution_count": 8,
   "id": "looking-header",
   "metadata": {},
   "outputs": [],
   "source": [
    "req = urllib.request.Request(bin_url, method = 'OPTIONS')\n",
    "resp = urllib.request.urlopen(req)"
   ]
  },
  {
   "cell_type": "code",
   "execution_count": 9,
   "id": "canadian-while",
   "metadata": {},
   "outputs": [
    {
     "data": {
      "text/plain": [
       "200"
      ]
     },
     "execution_count": 9,
     "metadata": {},
     "output_type": "execute_result"
    }
   ],
   "source": [
    "resp.status\n"
   ]
  },
  {
   "cell_type": "code",
   "execution_count": 10,
   "id": "instant-sleep",
   "metadata": {},
   "outputs": [
    {
     "name": "stdout",
     "output_type": "stream",
     "text": [
      "Date: Wed, 24 Feb 2021 16:45:58 GMT\n",
      "Content-Type: text/html; charset=utf-8\n",
      "Content-Length: 0\n",
      "Connection: close\n",
      "Server: gunicorn/19.9.0\n",
      "Allow: HEAD, OPTIONS, GET\n",
      "Access-Control-Allow-Origin: *\n",
      "Access-Control-Allow-Credentials: true\n",
      "Access-Control-Allow-Methods: GET, POST, PUT, DELETE, PATCH, OPTIONS\n",
      "Access-Control-Max-Age: 3600\n",
      "\n",
      "\n"
     ]
    }
   ],
   "source": [
    "print(resp.info())"
   ]
  },
  {
   "cell_type": "code",
   "execution_count": 11,
   "id": "dedicated-karma",
   "metadata": {},
   "outputs": [],
   "source": [
    "post_data = urllib.parse.urlencode({\"name\": \"Alice\", \"college\": \"Harvard\"}).encode('ascii')\n",
    "req = urllib.request.Request('https://httpbin.org/post', method = 'POST', data = post_data, headers = {'User-Agent': 'Mozilla/5.0 (Windows NT 6.1; Win64; x64)'})"
   ]
  },
  {
   "cell_type": "code",
   "execution_count": 12,
   "id": "crazy-consolidation",
   "metadata": {},
   "outputs": [
    {
     "name": "stdout",
     "output_type": "stream",
     "text": [
      "Date: Wed, 24 Feb 2021 16:45:58 GMT\n",
      "Content-Type: text/html; charset=utf-8\n",
      "Content-Length: 0\n",
      "Connection: close\n",
      "Server: gunicorn/19.9.0\n",
      "Allow: HEAD, OPTIONS, GET\n",
      "Access-Control-Allow-Origin: *\n",
      "Access-Control-Allow-Credentials: true\n",
      "Access-Control-Allow-Methods: GET, POST, PUT, DELETE, PATCH, OPTIONS\n",
      "Access-Control-Max-Age: 3600\n",
      "\n",
      "\n"
     ]
    }
   ],
   "source": [
    "print(resp.info())"
   ]
  },
  {
   "cell_type": "code",
   "execution_count": 13,
   "id": "sweet-rwanda",
   "metadata": {},
   "outputs": [
    {
     "name": "stdout",
     "output_type": "stream",
     "text": [
      "''\n"
     ]
    }
   ],
   "source": [
    "data = resp.read().decode(\"UTF-8\")\n",
    "pprint(data)"
   ]
  },
  {
   "cell_type": "code",
   "execution_count": 15,
   "id": "ecological-guyana",
   "metadata": {},
   "outputs": [
    {
     "ename": "URLError",
     "evalue": "<urlopen error [Errno 11001] getaddrinfo failed>",
     "output_type": "error",
     "traceback": [
      "\u001b[1;31m---------------------------------------------------------------------------\u001b[0m",
      "\u001b[1;31mgaierror\u001b[0m                                  Traceback (most recent call last)",
      "\u001b[1;32mc:\\users\\tuan.vo\\appdata\\local\\programs\\python\\python39\\lib\\urllib\\request.py\u001b[0m in \u001b[0;36mdo_open\u001b[1;34m(self, http_class, req, **http_conn_args)\u001b[0m\n\u001b[0;32m   1341\u001b[0m             \u001b[1;32mtry\u001b[0m\u001b[1;33m:\u001b[0m\u001b[1;33m\u001b[0m\u001b[1;33m\u001b[0m\u001b[0m\n\u001b[1;32m-> 1342\u001b[1;33m                 h.request(req.get_method(), req.selector, req.data, headers,\n\u001b[0m\u001b[0;32m   1343\u001b[0m                           encode_chunked=req.has_header('Transfer-encoding'))\n",
      "\u001b[1;32mc:\\users\\tuan.vo\\appdata\\local\\programs\\python\\python39\\lib\\http\\client.py\u001b[0m in \u001b[0;36mrequest\u001b[1;34m(self, method, url, body, headers, encode_chunked)\u001b[0m\n\u001b[0;32m   1254\u001b[0m         \u001b[1;34m\"\"\"Send a complete request to the server.\"\"\"\u001b[0m\u001b[1;33m\u001b[0m\u001b[1;33m\u001b[0m\u001b[0m\n\u001b[1;32m-> 1255\u001b[1;33m         \u001b[0mself\u001b[0m\u001b[1;33m.\u001b[0m\u001b[0m_send_request\u001b[0m\u001b[1;33m(\u001b[0m\u001b[0mmethod\u001b[0m\u001b[1;33m,\u001b[0m \u001b[0murl\u001b[0m\u001b[1;33m,\u001b[0m \u001b[0mbody\u001b[0m\u001b[1;33m,\u001b[0m \u001b[0mheaders\u001b[0m\u001b[1;33m,\u001b[0m \u001b[0mencode_chunked\u001b[0m\u001b[1;33m)\u001b[0m\u001b[1;33m\u001b[0m\u001b[1;33m\u001b[0m\u001b[0m\n\u001b[0m\u001b[0;32m   1256\u001b[0m \u001b[1;33m\u001b[0m\u001b[0m\n",
      "\u001b[1;32mc:\\users\\tuan.vo\\appdata\\local\\programs\\python\\python39\\lib\\http\\client.py\u001b[0m in \u001b[0;36m_send_request\u001b[1;34m(self, method, url, body, headers, encode_chunked)\u001b[0m\n\u001b[0;32m   1300\u001b[0m             \u001b[0mbody\u001b[0m \u001b[1;33m=\u001b[0m \u001b[0m_encode\u001b[0m\u001b[1;33m(\u001b[0m\u001b[0mbody\u001b[0m\u001b[1;33m,\u001b[0m \u001b[1;34m'body'\u001b[0m\u001b[1;33m)\u001b[0m\u001b[1;33m\u001b[0m\u001b[1;33m\u001b[0m\u001b[0m\n\u001b[1;32m-> 1301\u001b[1;33m         \u001b[0mself\u001b[0m\u001b[1;33m.\u001b[0m\u001b[0mendheaders\u001b[0m\u001b[1;33m(\u001b[0m\u001b[0mbody\u001b[0m\u001b[1;33m,\u001b[0m \u001b[0mencode_chunked\u001b[0m\u001b[1;33m=\u001b[0m\u001b[0mencode_chunked\u001b[0m\u001b[1;33m)\u001b[0m\u001b[1;33m\u001b[0m\u001b[1;33m\u001b[0m\u001b[0m\n\u001b[0m\u001b[0;32m   1302\u001b[0m \u001b[1;33m\u001b[0m\u001b[0m\n",
      "\u001b[1;32mc:\\users\\tuan.vo\\appdata\\local\\programs\\python\\python39\\lib\\http\\client.py\u001b[0m in \u001b[0;36mendheaders\u001b[1;34m(self, message_body, encode_chunked)\u001b[0m\n\u001b[0;32m   1249\u001b[0m             \u001b[1;32mraise\u001b[0m \u001b[0mCannotSendHeader\u001b[0m\u001b[1;33m(\u001b[0m\u001b[1;33m)\u001b[0m\u001b[1;33m\u001b[0m\u001b[1;33m\u001b[0m\u001b[0m\n\u001b[1;32m-> 1250\u001b[1;33m         \u001b[0mself\u001b[0m\u001b[1;33m.\u001b[0m\u001b[0m_send_output\u001b[0m\u001b[1;33m(\u001b[0m\u001b[0mmessage_body\u001b[0m\u001b[1;33m,\u001b[0m \u001b[0mencode_chunked\u001b[0m\u001b[1;33m=\u001b[0m\u001b[0mencode_chunked\u001b[0m\u001b[1;33m)\u001b[0m\u001b[1;33m\u001b[0m\u001b[1;33m\u001b[0m\u001b[0m\n\u001b[0m\u001b[0;32m   1251\u001b[0m \u001b[1;33m\u001b[0m\u001b[0m\n",
      "\u001b[1;32mc:\\users\\tuan.vo\\appdata\\local\\programs\\python\\python39\\lib\\http\\client.py\u001b[0m in \u001b[0;36m_send_output\u001b[1;34m(self, message_body, encode_chunked)\u001b[0m\n\u001b[0;32m   1009\u001b[0m         \u001b[1;32mdel\u001b[0m \u001b[0mself\u001b[0m\u001b[1;33m.\u001b[0m\u001b[0m_buffer\u001b[0m\u001b[1;33m[\u001b[0m\u001b[1;33m:\u001b[0m\u001b[1;33m]\u001b[0m\u001b[1;33m\u001b[0m\u001b[1;33m\u001b[0m\u001b[0m\n\u001b[1;32m-> 1010\u001b[1;33m         \u001b[0mself\u001b[0m\u001b[1;33m.\u001b[0m\u001b[0msend\u001b[0m\u001b[1;33m(\u001b[0m\u001b[0mmsg\u001b[0m\u001b[1;33m)\u001b[0m\u001b[1;33m\u001b[0m\u001b[1;33m\u001b[0m\u001b[0m\n\u001b[0m\u001b[0;32m   1011\u001b[0m \u001b[1;33m\u001b[0m\u001b[0m\n",
      "\u001b[1;32mc:\\users\\tuan.vo\\appdata\\local\\programs\\python\\python39\\lib\\http\\client.py\u001b[0m in \u001b[0;36msend\u001b[1;34m(self, data)\u001b[0m\n\u001b[0;32m    949\u001b[0m             \u001b[1;32mif\u001b[0m \u001b[0mself\u001b[0m\u001b[1;33m.\u001b[0m\u001b[0mauto_open\u001b[0m\u001b[1;33m:\u001b[0m\u001b[1;33m\u001b[0m\u001b[1;33m\u001b[0m\u001b[0m\n\u001b[1;32m--> 950\u001b[1;33m                 \u001b[0mself\u001b[0m\u001b[1;33m.\u001b[0m\u001b[0mconnect\u001b[0m\u001b[1;33m(\u001b[0m\u001b[1;33m)\u001b[0m\u001b[1;33m\u001b[0m\u001b[1;33m\u001b[0m\u001b[0m\n\u001b[0m\u001b[0;32m    951\u001b[0m             \u001b[1;32melse\u001b[0m\u001b[1;33m:\u001b[0m\u001b[1;33m\u001b[0m\u001b[1;33m\u001b[0m\u001b[0m\n",
      "\u001b[1;32mc:\\users\\tuan.vo\\appdata\\local\\programs\\python\\python39\\lib\\http\\client.py\u001b[0m in \u001b[0;36mconnect\u001b[1;34m(self)\u001b[0m\n\u001b[0;32m   1416\u001b[0m \u001b[1;33m\u001b[0m\u001b[0m\n\u001b[1;32m-> 1417\u001b[1;33m             \u001b[0msuper\u001b[0m\u001b[1;33m(\u001b[0m\u001b[1;33m)\u001b[0m\u001b[1;33m.\u001b[0m\u001b[0mconnect\u001b[0m\u001b[1;33m(\u001b[0m\u001b[1;33m)\u001b[0m\u001b[1;33m\u001b[0m\u001b[1;33m\u001b[0m\u001b[0m\n\u001b[0m\u001b[0;32m   1418\u001b[0m \u001b[1;33m\u001b[0m\u001b[0m\n",
      "\u001b[1;32mc:\\users\\tuan.vo\\appdata\\local\\programs\\python\\python39\\lib\\http\\client.py\u001b[0m in \u001b[0;36mconnect\u001b[1;34m(self)\u001b[0m\n\u001b[0;32m    920\u001b[0m         \u001b[1;34m\"\"\"Connect to the host and port specified in __init__.\"\"\"\u001b[0m\u001b[1;33m\u001b[0m\u001b[1;33m\u001b[0m\u001b[0m\n\u001b[1;32m--> 921\u001b[1;33m         self.sock = self._create_connection(\n\u001b[0m\u001b[0;32m    922\u001b[0m             (self.host,self.port), self.timeout, self.source_address)\n",
      "\u001b[1;32mc:\\users\\tuan.vo\\appdata\\local\\programs\\python\\python39\\lib\\socket.py\u001b[0m in \u001b[0;36mcreate_connection\u001b[1;34m(address, timeout, source_address)\u001b[0m\n\u001b[0;32m    821\u001b[0m     \u001b[0merr\u001b[0m \u001b[1;33m=\u001b[0m \u001b[1;32mNone\u001b[0m\u001b[1;33m\u001b[0m\u001b[1;33m\u001b[0m\u001b[0m\n\u001b[1;32m--> 822\u001b[1;33m     \u001b[1;32mfor\u001b[0m \u001b[0mres\u001b[0m \u001b[1;32min\u001b[0m \u001b[0mgetaddrinfo\u001b[0m\u001b[1;33m(\u001b[0m\u001b[0mhost\u001b[0m\u001b[1;33m,\u001b[0m \u001b[0mport\u001b[0m\u001b[1;33m,\u001b[0m \u001b[1;36m0\u001b[0m\u001b[1;33m,\u001b[0m \u001b[0mSOCK_STREAM\u001b[0m\u001b[1;33m)\u001b[0m\u001b[1;33m:\u001b[0m\u001b[1;33m\u001b[0m\u001b[1;33m\u001b[0m\u001b[0m\n\u001b[0m\u001b[0;32m    823\u001b[0m         \u001b[0maf\u001b[0m\u001b[1;33m,\u001b[0m \u001b[0msocktype\u001b[0m\u001b[1;33m,\u001b[0m \u001b[0mproto\u001b[0m\u001b[1;33m,\u001b[0m \u001b[0mcanonname\u001b[0m\u001b[1;33m,\u001b[0m \u001b[0msa\u001b[0m \u001b[1;33m=\u001b[0m \u001b[0mres\u001b[0m\u001b[1;33m\u001b[0m\u001b[1;33m\u001b[0m\u001b[0m\n",
      "\u001b[1;32mc:\\users\\tuan.vo\\appdata\\local\\programs\\python\\python39\\lib\\socket.py\u001b[0m in \u001b[0;36mgetaddrinfo\u001b[1;34m(host, port, family, type, proto, flags)\u001b[0m\n\u001b[0;32m    952\u001b[0m     \u001b[0maddrlist\u001b[0m \u001b[1;33m=\u001b[0m \u001b[1;33m[\u001b[0m\u001b[1;33m]\u001b[0m\u001b[1;33m\u001b[0m\u001b[1;33m\u001b[0m\u001b[0m\n\u001b[1;32m--> 953\u001b[1;33m     \u001b[1;32mfor\u001b[0m \u001b[0mres\u001b[0m \u001b[1;32min\u001b[0m \u001b[0m_socket\u001b[0m\u001b[1;33m.\u001b[0m\u001b[0mgetaddrinfo\u001b[0m\u001b[1;33m(\u001b[0m\u001b[0mhost\u001b[0m\u001b[1;33m,\u001b[0m \u001b[0mport\u001b[0m\u001b[1;33m,\u001b[0m \u001b[0mfamily\u001b[0m\u001b[1;33m,\u001b[0m \u001b[0mtype\u001b[0m\u001b[1;33m,\u001b[0m \u001b[0mproto\u001b[0m\u001b[1;33m,\u001b[0m \u001b[0mflags\u001b[0m\u001b[1;33m)\u001b[0m\u001b[1;33m:\u001b[0m\u001b[1;33m\u001b[0m\u001b[1;33m\u001b[0m\u001b[0m\n\u001b[0m\u001b[0;32m    954\u001b[0m         \u001b[0maf\u001b[0m\u001b[1;33m,\u001b[0m \u001b[0msocktype\u001b[0m\u001b[1;33m,\u001b[0m \u001b[0mproto\u001b[0m\u001b[1;33m,\u001b[0m \u001b[0mcanonname\u001b[0m\u001b[1;33m,\u001b[0m \u001b[0msa\u001b[0m \u001b[1;33m=\u001b[0m \u001b[0mres\u001b[0m\u001b[1;33m\u001b[0m\u001b[1;33m\u001b[0m\u001b[0m\n",
      "\u001b[1;31mgaierror\u001b[0m: [Errno 11001] getaddrinfo failed",
      "\nDuring handling of the above exception, another exception occurred:\n",
      "\u001b[1;31mURLError\u001b[0m                                  Traceback (most recent call last)",
      "\u001b[1;32m<ipython-input-15-4242029fa918>\u001b[0m in \u001b[0;36m<module>\u001b[1;34m\u001b[0m\n\u001b[0;32m      2\u001b[0m \u001b[1;33m\u001b[0m\u001b[0m\n\u001b[0;32m      3\u001b[0m \u001b[1;32mtry\u001b[0m\u001b[1;33m:\u001b[0m\u001b[1;33m\u001b[0m\u001b[1;33m\u001b[0m\u001b[0m\n\u001b[1;32m----> 4\u001b[1;33m     \u001b[1;32mwith\u001b[0m \u001b[0murllib\u001b[0m\u001b[1;33m.\u001b[0m\u001b[0mrequest\u001b[0m\u001b[1;33m.\u001b[0m\u001b[0murlopen\u001b[0m\u001b[1;33m(\u001b[0m\u001b[1;34m'https://wwww.google.com/search?q=pluralsight'\u001b[0m\u001b[1;33m)\u001b[0m \u001b[1;32mas\u001b[0m \u001b[0mresp\u001b[0m\u001b[1;33m:\u001b[0m\u001b[1;33m\u001b[0m\u001b[1;33m\u001b[0m\u001b[0m\n\u001b[0m\u001b[0;32m      5\u001b[0m         \u001b[0mpprint\u001b[0m\u001b[1;33m(\u001b[0m\u001b[0mresp\u001b[0m\u001b[1;33m.\u001b[0m\u001b[0mread\u001b[0m\u001b[1;33m(\u001b[0m\u001b[1;33m)\u001b[0m\u001b[1;33m.\u001b[0m\u001b[0mdecode\u001b[0m\u001b[1;33m(\u001b[0m\u001b[1;34m'ISO-8859-1'\u001b[0m\u001b[1;33m)\u001b[0m\u001b[1;33m)\u001b[0m\u001b[1;33m\u001b[0m\u001b[1;33m\u001b[0m\u001b[0m\n\u001b[0;32m      6\u001b[0m \u001b[1;32mexcept\u001b[0m \u001b[0mHTTPError\u001b[0m \u001b[1;32mas\u001b[0m \u001b[0me\u001b[0m\u001b[1;33m:\u001b[0m\u001b[1;33m\u001b[0m\u001b[1;33m\u001b[0m\u001b[0m\n",
      "\u001b[1;32mc:\\users\\tuan.vo\\appdata\\local\\programs\\python\\python39\\lib\\urllib\\request.py\u001b[0m in \u001b[0;36murlopen\u001b[1;34m(url, data, timeout, cafile, capath, cadefault, context)\u001b[0m\n\u001b[0;32m    212\u001b[0m     \u001b[1;32melse\u001b[0m\u001b[1;33m:\u001b[0m\u001b[1;33m\u001b[0m\u001b[1;33m\u001b[0m\u001b[0m\n\u001b[0;32m    213\u001b[0m         \u001b[0mopener\u001b[0m \u001b[1;33m=\u001b[0m \u001b[0m_opener\u001b[0m\u001b[1;33m\u001b[0m\u001b[1;33m\u001b[0m\u001b[0m\n\u001b[1;32m--> 214\u001b[1;33m     \u001b[1;32mreturn\u001b[0m \u001b[0mopener\u001b[0m\u001b[1;33m.\u001b[0m\u001b[0mopen\u001b[0m\u001b[1;33m(\u001b[0m\u001b[0murl\u001b[0m\u001b[1;33m,\u001b[0m \u001b[0mdata\u001b[0m\u001b[1;33m,\u001b[0m \u001b[0mtimeout\u001b[0m\u001b[1;33m)\u001b[0m\u001b[1;33m\u001b[0m\u001b[1;33m\u001b[0m\u001b[0m\n\u001b[0m\u001b[0;32m    215\u001b[0m \u001b[1;33m\u001b[0m\u001b[0m\n\u001b[0;32m    216\u001b[0m \u001b[1;32mdef\u001b[0m \u001b[0minstall_opener\u001b[0m\u001b[1;33m(\u001b[0m\u001b[0mopener\u001b[0m\u001b[1;33m)\u001b[0m\u001b[1;33m:\u001b[0m\u001b[1;33m\u001b[0m\u001b[1;33m\u001b[0m\u001b[0m\n",
      "\u001b[1;32mc:\\users\\tuan.vo\\appdata\\local\\programs\\python\\python39\\lib\\urllib\\request.py\u001b[0m in \u001b[0;36mopen\u001b[1;34m(self, fullurl, data, timeout)\u001b[0m\n\u001b[0;32m    515\u001b[0m \u001b[1;33m\u001b[0m\u001b[0m\n\u001b[0;32m    516\u001b[0m         \u001b[0msys\u001b[0m\u001b[1;33m.\u001b[0m\u001b[0maudit\u001b[0m\u001b[1;33m(\u001b[0m\u001b[1;34m'urllib.Request'\u001b[0m\u001b[1;33m,\u001b[0m \u001b[0mreq\u001b[0m\u001b[1;33m.\u001b[0m\u001b[0mfull_url\u001b[0m\u001b[1;33m,\u001b[0m \u001b[0mreq\u001b[0m\u001b[1;33m.\u001b[0m\u001b[0mdata\u001b[0m\u001b[1;33m,\u001b[0m \u001b[0mreq\u001b[0m\u001b[1;33m.\u001b[0m\u001b[0mheaders\u001b[0m\u001b[1;33m,\u001b[0m \u001b[0mreq\u001b[0m\u001b[1;33m.\u001b[0m\u001b[0mget_method\u001b[0m\u001b[1;33m(\u001b[0m\u001b[1;33m)\u001b[0m\u001b[1;33m)\u001b[0m\u001b[1;33m\u001b[0m\u001b[1;33m\u001b[0m\u001b[0m\n\u001b[1;32m--> 517\u001b[1;33m         \u001b[0mresponse\u001b[0m \u001b[1;33m=\u001b[0m \u001b[0mself\u001b[0m\u001b[1;33m.\u001b[0m\u001b[0m_open\u001b[0m\u001b[1;33m(\u001b[0m\u001b[0mreq\u001b[0m\u001b[1;33m,\u001b[0m \u001b[0mdata\u001b[0m\u001b[1;33m)\u001b[0m\u001b[1;33m\u001b[0m\u001b[1;33m\u001b[0m\u001b[0m\n\u001b[0m\u001b[0;32m    518\u001b[0m \u001b[1;33m\u001b[0m\u001b[0m\n\u001b[0;32m    519\u001b[0m         \u001b[1;31m# post-process response\u001b[0m\u001b[1;33m\u001b[0m\u001b[1;33m\u001b[0m\u001b[1;33m\u001b[0m\u001b[0m\n",
      "\u001b[1;32mc:\\users\\tuan.vo\\appdata\\local\\programs\\python\\python39\\lib\\urllib\\request.py\u001b[0m in \u001b[0;36m_open\u001b[1;34m(self, req, data)\u001b[0m\n\u001b[0;32m    532\u001b[0m \u001b[1;33m\u001b[0m\u001b[0m\n\u001b[0;32m    533\u001b[0m         \u001b[0mprotocol\u001b[0m \u001b[1;33m=\u001b[0m \u001b[0mreq\u001b[0m\u001b[1;33m.\u001b[0m\u001b[0mtype\u001b[0m\u001b[1;33m\u001b[0m\u001b[1;33m\u001b[0m\u001b[0m\n\u001b[1;32m--> 534\u001b[1;33m         result = self._call_chain(self.handle_open, protocol, protocol +\n\u001b[0m\u001b[0;32m    535\u001b[0m                                   '_open', req)\n\u001b[0;32m    536\u001b[0m         \u001b[1;32mif\u001b[0m \u001b[0mresult\u001b[0m\u001b[1;33m:\u001b[0m\u001b[1;33m\u001b[0m\u001b[1;33m\u001b[0m\u001b[0m\n",
      "\u001b[1;32mc:\\users\\tuan.vo\\appdata\\local\\programs\\python\\python39\\lib\\urllib\\request.py\u001b[0m in \u001b[0;36m_call_chain\u001b[1;34m(self, chain, kind, meth_name, *args)\u001b[0m\n\u001b[0;32m    492\u001b[0m         \u001b[1;32mfor\u001b[0m \u001b[0mhandler\u001b[0m \u001b[1;32min\u001b[0m \u001b[0mhandlers\u001b[0m\u001b[1;33m:\u001b[0m\u001b[1;33m\u001b[0m\u001b[1;33m\u001b[0m\u001b[0m\n\u001b[0;32m    493\u001b[0m             \u001b[0mfunc\u001b[0m \u001b[1;33m=\u001b[0m \u001b[0mgetattr\u001b[0m\u001b[1;33m(\u001b[0m\u001b[0mhandler\u001b[0m\u001b[1;33m,\u001b[0m \u001b[0mmeth_name\u001b[0m\u001b[1;33m)\u001b[0m\u001b[1;33m\u001b[0m\u001b[1;33m\u001b[0m\u001b[0m\n\u001b[1;32m--> 494\u001b[1;33m             \u001b[0mresult\u001b[0m \u001b[1;33m=\u001b[0m \u001b[0mfunc\u001b[0m\u001b[1;33m(\u001b[0m\u001b[1;33m*\u001b[0m\u001b[0margs\u001b[0m\u001b[1;33m)\u001b[0m\u001b[1;33m\u001b[0m\u001b[1;33m\u001b[0m\u001b[0m\n\u001b[0m\u001b[0;32m    495\u001b[0m             \u001b[1;32mif\u001b[0m \u001b[0mresult\u001b[0m \u001b[1;32mis\u001b[0m \u001b[1;32mnot\u001b[0m \u001b[1;32mNone\u001b[0m\u001b[1;33m:\u001b[0m\u001b[1;33m\u001b[0m\u001b[1;33m\u001b[0m\u001b[0m\n\u001b[0;32m    496\u001b[0m                 \u001b[1;32mreturn\u001b[0m \u001b[0mresult\u001b[0m\u001b[1;33m\u001b[0m\u001b[1;33m\u001b[0m\u001b[0m\n",
      "\u001b[1;32mc:\\users\\tuan.vo\\appdata\\local\\programs\\python\\python39\\lib\\urllib\\request.py\u001b[0m in \u001b[0;36mhttps_open\u001b[1;34m(self, req)\u001b[0m\n\u001b[0;32m   1383\u001b[0m \u001b[1;33m\u001b[0m\u001b[0m\n\u001b[0;32m   1384\u001b[0m         \u001b[1;32mdef\u001b[0m \u001b[0mhttps_open\u001b[0m\u001b[1;33m(\u001b[0m\u001b[0mself\u001b[0m\u001b[1;33m,\u001b[0m \u001b[0mreq\u001b[0m\u001b[1;33m)\u001b[0m\u001b[1;33m:\u001b[0m\u001b[1;33m\u001b[0m\u001b[1;33m\u001b[0m\u001b[0m\n\u001b[1;32m-> 1385\u001b[1;33m             return self.do_open(http.client.HTTPSConnection, req,\n\u001b[0m\u001b[0;32m   1386\u001b[0m                 context=self._context, check_hostname=self._check_hostname)\n\u001b[0;32m   1387\u001b[0m \u001b[1;33m\u001b[0m\u001b[0m\n",
      "\u001b[1;32mc:\\users\\tuan.vo\\appdata\\local\\programs\\python\\python39\\lib\\urllib\\request.py\u001b[0m in \u001b[0;36mdo_open\u001b[1;34m(self, http_class, req, **http_conn_args)\u001b[0m\n\u001b[0;32m   1343\u001b[0m                           encode_chunked=req.has_header('Transfer-encoding'))\n\u001b[0;32m   1344\u001b[0m             \u001b[1;32mexcept\u001b[0m \u001b[0mOSError\u001b[0m \u001b[1;32mas\u001b[0m \u001b[0merr\u001b[0m\u001b[1;33m:\u001b[0m \u001b[1;31m# timeout error\u001b[0m\u001b[1;33m\u001b[0m\u001b[1;33m\u001b[0m\u001b[0m\n\u001b[1;32m-> 1345\u001b[1;33m                 \u001b[1;32mraise\u001b[0m \u001b[0mURLError\u001b[0m\u001b[1;33m(\u001b[0m\u001b[0merr\u001b[0m\u001b[1;33m)\u001b[0m\u001b[1;33m\u001b[0m\u001b[1;33m\u001b[0m\u001b[0m\n\u001b[0m\u001b[0;32m   1346\u001b[0m             \u001b[0mr\u001b[0m \u001b[1;33m=\u001b[0m \u001b[0mh\u001b[0m\u001b[1;33m.\u001b[0m\u001b[0mgetresponse\u001b[0m\u001b[1;33m(\u001b[0m\u001b[1;33m)\u001b[0m\u001b[1;33m\u001b[0m\u001b[1;33m\u001b[0m\u001b[0m\n\u001b[0;32m   1347\u001b[0m         \u001b[1;32mexcept\u001b[0m\u001b[1;33m:\u001b[0m\u001b[1;33m\u001b[0m\u001b[1;33m\u001b[0m\u001b[0m\n",
      "\u001b[1;31mURLError\u001b[0m: <urlopen error [Errno 11001] getaddrinfo failed>"
     ]
    }
   ],
   "source": [
    "from urllib.error import URLError, HTTPError\n",
    "\n",
    "try:\n",
    "    with urllib.request.urlopen('https://wwww.google.com/search?q=pluralsight') as resp:\n",
    "        pprint(resp.read().decode('ISO-8859-1'))\n",
    "except HTTPError as e:\n",
    "    print(e.reason. e.code)"
   ]
  },
  {
   "cell_type": "code",
   "execution_count": null,
   "id": "sensitive-lightning",
   "metadata": {},
   "outputs": [],
   "source": []
  },
  {
   "cell_type": "code",
   "execution_count": 17,
   "id": "entire-shopper",
   "metadata": {},
   "outputs": [],
   "source": [
    "parsed_data = urllib.parse.urlparse('http://www.loonycorn.in:80/languages/Python.html')"
   ]
  },
  {
   "cell_type": "code",
   "execution_count": 18,
   "id": "personalized-yeast",
   "metadata": {},
   "outputs": [
    {
     "ename": "NameError",
     "evalue": "name 'parse_data' is not defined",
     "output_type": "error",
     "traceback": [
      "\u001b[1;31m---------------------------------------------------------------------------\u001b[0m",
      "\u001b[1;31mNameError\u001b[0m                                 Traceback (most recent call last)",
      "\u001b[1;32m<ipython-input-18-8b7469405ac6>\u001b[0m in \u001b[0;36m<module>\u001b[1;34m\u001b[0m\n\u001b[1;32m----> 1\u001b[1;33m \u001b[0mparse_data\u001b[0m\u001b[1;33m\u001b[0m\u001b[1;33m\u001b[0m\u001b[0m\n\u001b[0m",
      "\u001b[1;31mNameError\u001b[0m: name 'parse_data' is not defined"
     ]
    }
   ],
   "source": [
    "parse_data"
   ]
  },
  {
   "cell_type": "code",
   "execution_count": 19,
   "id": "satisfactory-complex",
   "metadata": {},
   "outputs": [
    {
     "data": {
      "text/plain": [
       "ParseResult(scheme='http', netloc='www.loonycorn.in:80', path='/languages/Python.html', params='', query='', fragment='')"
      ]
     },
     "execution_count": 19,
     "metadata": {},
     "output_type": "execute_result"
    }
   ],
   "source": [
    "parsed_data\n"
   ]
  },
  {
   "cell_type": "code",
   "execution_count": 20,
   "id": "rental-patient",
   "metadata": {},
   "outputs": [
    {
     "data": {
      "text/plain": [
       "'http'"
      ]
     },
     "execution_count": 20,
     "metadata": {},
     "output_type": "execute_result"
    }
   ],
   "source": [
    "parsed_data.scheme\n"
   ]
  },
  {
   "cell_type": "code",
   "execution_count": 21,
   "id": "adjustable-longitude",
   "metadata": {},
   "outputs": [
    {
     "data": {
      "text/plain": [
       "'www.loonycorn.in:80'"
      ]
     },
     "execution_count": 21,
     "metadata": {},
     "output_type": "execute_result"
    }
   ],
   "source": [
    "parsed_data.netloc"
   ]
  },
  {
   "cell_type": "code",
   "execution_count": 22,
   "id": "contrary-affairs",
   "metadata": {},
   "outputs": [],
   "source": [
    "parsed_data = urllib.parse.urlparse('http://www.loonycorn.in:80/languages/Python.html?greeting=hello&person=John')"
   ]
  },
  {
   "cell_type": "code",
   "execution_count": 23,
   "id": "plain-tanzania",
   "metadata": {},
   "outputs": [
    {
     "data": {
      "text/plain": [
       "ParseResult(scheme='http', netloc='www.loonycorn.in:80', path='/languages/Python.html', params='', query='greeting=hello&person=John', fragment='')"
      ]
     },
     "execution_count": 23,
     "metadata": {},
     "output_type": "execute_result"
    }
   ],
   "source": [
    "parsed_data"
   ]
  },
  {
   "cell_type": "code",
   "execution_count": 24,
   "id": "faced-horse",
   "metadata": {},
   "outputs": [],
   "source": [
    "parsed_data = urllib.parse.urlparse('http://www.loonycorn.in:80/languages/Python.html#courses')"
   ]
  },
  {
   "cell_type": "code",
   "execution_count": 25,
   "id": "happy-aggregate",
   "metadata": {},
   "outputs": [
    {
     "data": {
      "text/plain": [
       "ParseResult(scheme='http', netloc='www.loonycorn.in:80', path='/languages/Python.html', params='', query='', fragment='courses')"
      ]
     },
     "execution_count": 25,
     "metadata": {},
     "output_type": "execute_result"
    }
   ],
   "source": [
    "parsed_data"
   ]
  },
  {
   "cell_type": "code",
   "execution_count": null,
   "id": "great-marriage",
   "metadata": {},
   "outputs": [],
   "source": []
  }
 ],
 "metadata": {
  "kernelspec": {
   "display_name": "Python 3",
   "language": "python",
   "name": "python3"
  },
  "language_info": {
   "codemirror_mode": {
    "name": "ipython",
    "version": 3
   },
   "file_extension": ".py",
   "mimetype": "text/x-python",
   "name": "python",
   "nbconvert_exporter": "python",
   "pygments_lexer": "ipython3",
   "version": "3.9.0"
  }
 },
 "nbformat": 4,
 "nbformat_minor": 5
}
