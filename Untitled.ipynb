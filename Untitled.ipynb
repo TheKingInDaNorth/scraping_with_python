{
 "cells": [
  {
   "cell_type": "code",
   "execution_count": 1,
   "id": "automatic-lease",
   "metadata": {},
   "outputs": [
    {
     "name": "stdout",
     "output_type": "stream",
     "text": [
      "Requirement already satisfied: httplib2 in c:\\users\\tuan.vo\\appdata\\local\\programs\\python\\python39\\lib\\site-packages (0.19.0)\n",
      "Requirement already satisfied: pyparsing<3,>=2.4.2 in c:\\users\\tuan.vo\\appdata\\local\\programs\\python\\python39\\lib\\site-packages (from httplib2) (2.4.7)\n"
     ]
    },
    {
     "name": "stderr",
     "output_type": "stream",
     "text": [
      "WARNING: You are using pip version 20.2.3; however, version 21.0.1 is available.\n",
      "You should consider upgrading via the 'c:\\users\\tuan.vo\\appdata\\local\\programs\\python\\python39\\python.exe -m pip install --upgrade pip' command.\n"
     ]
    }
   ],
   "source": [
    "!pip install httplib2\n"
   ]
  },
  {
   "cell_type": "code",
   "execution_count": 2,
   "id": "comic-treatment",
   "metadata": {},
   "outputs": [],
   "source": [
    "import httplib2\n",
    "import webbrowser\n",
    "from pprint import pprint\n"
   ]
  },
  {
   "cell_type": "code",
   "execution_count": 3,
   "id": "novel-fitting",
   "metadata": {},
   "outputs": [],
   "source": [
    "bin_url = 'https://httpbin.org/'"
   ]
  },
  {
   "cell_type": "code",
   "execution_count": 4,
   "id": "controversial-strip",
   "metadata": {},
   "outputs": [
    {
     "ename": "NameError",
     "evalue": "name 'http' is not defined",
     "output_type": "error",
     "traceback": [
      "\u001b[1;31m---------------------------------------------------------------------------\u001b[0m",
      "\u001b[1;31mNameError\u001b[0m                                 Traceback (most recent call last)",
      "\u001b[1;32m<ipython-input-4-08d6045e3f22>\u001b[0m in \u001b[0;36m<module>\u001b[1;34m\u001b[0m\n\u001b[1;32m----> 1\u001b[1;33m \u001b[0mresp\u001b[0m\u001b[1;33m,\u001b[0m \u001b[0mdata\u001b[0m \u001b[1;33m=\u001b[0m \u001b[0mhttp\u001b[0m\u001b[1;33m.\u001b[0m\u001b[0mrequest\u001b[0m\u001b[1;33m(\u001b[0m\u001b[1;34m'https://httpbin.org/get'\u001b[0m\u001b[1;33m,\u001b[0m \u001b[0mmethod\u001b[0m \u001b[1;33m=\u001b[0m \u001b[1;34m'GET'\u001b[0m\u001b[1;33m)\u001b[0m\u001b[1;33m\u001b[0m\u001b[1;33m\u001b[0m\u001b[0m\n\u001b[0m",
      "\u001b[1;31mNameError\u001b[0m: name 'http' is not defined"
     ]
    }
   ],
   "source": [
    "resp, data = http.request('https://httpbin.org/get', method = 'GET')"
   ]
  },
  {
   "cell_type": "code",
   "execution_count": 5,
   "id": "listed-reduction",
   "metadata": {},
   "outputs": [],
   "source": [
    "http = httplib2.Http()\n"
   ]
  },
  {
   "cell_type": "code",
   "execution_count": 6,
   "id": "empirical-saudi",
   "metadata": {},
   "outputs": [],
   "source": [
    "resp, data = http.request('https://httpbin.org/get', method = 'GET')"
   ]
  },
  {
   "cell_type": "code",
   "execution_count": 7,
   "id": "macro-maine",
   "metadata": {},
   "outputs": [
    {
     "name": "stdout",
     "output_type": "stream",
     "text": [
      "{'access-control-allow-credentials': 'true',\n",
      " 'access-control-allow-origin': '*',\n",
      " 'connection': 'keep-alive',\n",
      " 'content-length': '291',\n",
      " 'content-location': 'https://httpbin.org/get',\n",
      " 'content-type': 'application/json',\n",
      " 'date': 'Tue, 23 Feb 2021 16:31:32 GMT',\n",
      " 'server': 'gunicorn/19.9.0',\n",
      " 'status': '200'}\n"
     ]
    }
   ],
   "source": [
    "pprint(resp)"
   ]
  },
  {
   "cell_type": "code",
   "execution_count": 8,
   "id": "valued-manchester",
   "metadata": {},
   "outputs": [],
   "source": [
    "post_data = '{\"name\": \"Alice\", \"college\": \"Harvard\"}'\n"
   ]
  },
  {
   "cell_type": "code",
   "execution_count": 9,
   "id": "fewer-academy",
   "metadata": {},
   "outputs": [],
   "source": [
    "resp, data = http.request('https://httpbin.org/post',\n",
    "                         method = 'POST',\n",
    "                         body = post_data,\n",
    "                         headers = {'content-type':'application/json'})"
   ]
  },
  {
   "cell_type": "code",
   "execution_count": 10,
   "id": "alert-thailand",
   "metadata": {},
   "outputs": [
    {
     "name": "stdout",
     "output_type": "stream",
     "text": [
      "{'access-control-allow-credentials': 'true',\n",
      " 'access-control-allow-origin': '*',\n",
      " 'connection': 'keep-alive',\n",
      " 'content-length': '520',\n",
      " 'content-type': 'application/json',\n",
      " 'date': 'Tue, 23 Feb 2021 17:42:11 GMT',\n",
      " 'server': 'gunicorn/19.9.0',\n",
      " 'status': '200'}\n"
     ]
    }
   ],
   "source": [
    "pprint(resp)\n"
   ]
  },
  {
   "cell_type": "code",
   "execution_count": 11,
   "id": "canadian-blake",
   "metadata": {},
   "outputs": [
    {
     "name": "stdout",
     "output_type": "stream",
     "text": [
      "('{\\n'\n",
      " '  \"args\": {}, \\n'\n",
      " '  \"data\": \"{\\\\\"name\\\\\": \\\\\"Alice\\\\\", \\\\\"college\\\\\": \\\\\"Harvard\\\\\"}\", \\n'\n",
      " '  \"files\": {}, \\n'\n",
      " '  \"form\": {}, \\n'\n",
      " '  \"headers\": {\\n'\n",
      " '    \"Accept-Encoding\": \"gzip, deflate\", \\n'\n",
      " '    \"Content-Length\": \"39\", \\n'\n",
      " '    \"Content-Type\": \"application/json\", \\n'\n",
      " '    \"Host\": \"httpbin.org\", \\n'\n",
      " '    \"User-Agent\": \"Python-httplib2/0.19.0 (gzip)\", \\n'\n",
      " '    \"X-Amzn-Trace-Id\": \"Root=1-60353e73-40b61fe44288f3f36b52bd5d\"\\n'\n",
      " '  }, \\n'\n",
      " '  \"json\": {\\n'\n",
      " '    \"college\": \"Harvard\", \\n'\n",
      " '    \"name\": \"Alice\"\\n'\n",
      " '  }, \\n'\n",
      " '  \"origin\": \"24.10.98.149\", \\n'\n",
      " '  \"url\": \"https://httpbin.org/post\"\\n'\n",
      " '}\\n')\n"
     ]
    }
   ],
   "source": [
    "pprint(data.decode('UTF-8'))"
   ]
  },
  {
   "cell_type": "code",
   "execution_count": 12,
   "id": "differential-annual",
   "metadata": {},
   "outputs": [
    {
     "data": {
      "text/plain": [
       "True"
      ]
     },
     "execution_count": 12,
     "metadata": {},
     "output_type": "execute_result"
    }
   ],
   "source": [
    "http.follow_redirects\n"
   ]
  },
  {
   "cell_type": "code",
   "execution_count": 13,
   "id": "simplified-tract",
   "metadata": {},
   "outputs": [
    {
     "data": {
      "text/plain": [
       "False"
      ]
     },
     "execution_count": 13,
     "metadata": {},
     "output_type": "execute_result"
    }
   ],
   "source": [
    "http.follow_all_redirects\n"
   ]
  },
  {
   "cell_type": "code",
   "execution_count": 14,
   "id": "resident-level",
   "metadata": {},
   "outputs": [
    {
     "name": "stdout",
     "output_type": "stream",
     "text": [
      "{'connection': 'keep-alive',\n",
      " 'content-length': '0',\n",
      " 'content-type': 'text/plain; charset=utf-8',\n",
      " 'date': 'Tue, 23 Feb 2021 21:58:51 GMT',\n",
      " 'server': 'awselb/2.0',\n",
      " 'status': '404'}\n"
     ]
    }
   ],
   "source": [
    "resp, data = http.request('https://httpbin.org/absolute-redirect/1', method = 'GET')\n",
    "pprint(resp)"
   ]
  },
  {
   "cell_type": "code",
   "execution_count": 15,
   "id": "turkish-worry",
   "metadata": {},
   "outputs": [],
   "source": [
    "resp.previous"
   ]
  },
  {
   "cell_type": "code",
   "execution_count": 16,
   "id": "rational-cause",
   "metadata": {},
   "outputs": [],
   "source": [
    "http.follow_redirects = False\n"
   ]
  },
  {
   "cell_type": "code",
   "execution_count": 17,
   "id": "deluxe-earthquake",
   "metadata": {},
   "outputs": [
    {
     "name": "stdout",
     "output_type": "stream",
     "text": [
      "{'connection': 'keep-alive',\n",
      " 'content-length': '0',\n",
      " 'content-type': 'text/plain; charset=utf-8',\n",
      " 'date': 'Tue, 23 Feb 2021 22:51:15 GMT',\n",
      " 'server': 'awselb/2.0',\n",
      " 'status': '404'}\n"
     ]
    }
   ],
   "source": [
    "resp, data = http.request('https://httpbin.org/redirect-to?url=https://google.com&status_code=200', method = 'GET')\n",
    "pprint(resp)"
   ]
  },
  {
   "cell_type": "code",
   "execution_count": 18,
   "id": "corrected-pendant",
   "metadata": {},
   "outputs": [],
   "source": [
    "http.follow_redirects = True"
   ]
  },
  {
   "cell_type": "code",
   "execution_count": 19,
   "id": "personalized-mathematics",
   "metadata": {},
   "outputs": [
    {
     "name": "stdout",
     "output_type": "stream",
     "text": [
      "{'connection': 'keep-alive',\n",
      " 'content-length': '0',\n",
      " 'content-type': 'text/plain; charset=utf-8',\n",
      " 'date': 'Tue, 23 Feb 2021 22:52:12 GMT',\n",
      " 'server': 'awselb/2.0',\n",
      " 'status': '404'}\n"
     ]
    }
   ],
   "source": [
    "resp, data = http.request('https://httpbin.org/redirect-to?url=https://google.com&status_code=200', method = 'GET')\n",
    "pprint(resp)"
   ]
  },
  {
   "cell_type": "code",
   "execution_count": null,
   "id": "spectacular-israeli",
   "metadata": {},
   "outputs": [],
   "source": []
  }
 ],
 "metadata": {
  "kernelspec": {
   "display_name": "Python 3",
   "language": "python",
   "name": "python3"
  },
  "language_info": {
   "codemirror_mode": {
    "name": "ipython",
    "version": 3
   },
   "file_extension": ".py",
   "mimetype": "text/x-python",
   "name": "python",
   "nbconvert_exporter": "python",
   "pygments_lexer": "ipython3",
   "version": "3.9.0"
  }
 },
 "nbformat": 4,
 "nbformat_minor": 5
}
