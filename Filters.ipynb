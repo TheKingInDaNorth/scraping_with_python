{
 "cells": [
  {
   "cell_type": "code",
   "execution_count": 1,
   "id": "controlling-packing",
   "metadata": {},
   "outputs": [],
   "source": [
    "import re\n",
    "from bs4 import BeautifulSoup"
   ]
  },
  {
   "cell_type": "code",
   "execution_count": 3,
   "id": "bulgarian-joseph",
   "metadata": {},
   "outputs": [],
   "source": [
    "with open('scraping-first-web-page-python/files/TomJerry_Story.html') as html_code:\n",
    "    soup = BeautifulSoup(html_code, 'lxml')"
   ]
  },
  {
   "cell_type": "code",
   "execution_count": 4,
   "id": "accomplished-husband",
   "metadata": {},
   "outputs": [
    {
     "name": "stdout",
     "output_type": "stream",
     "text": [
      "<html>\n",
      " <head>\n",
      "  <title>\n",
      "   The story of Tom and Jerry\n",
      "  </title>\n",
      " </head>\n",
      " <body>\n",
      "  <p class=\"title\">\n",
      "   <b>\n",
      "    Tom and Jerry\n",
      "   </b>\n",
      "  </p>\n",
      "  <img alt=\"cartoon_image\" height=\"300\" src=\"TomAndJerry.jpg\" width=\"300\"/>\n",
      "  <p class=\"comedy animated series\">\n",
      "   Tom and Jerry is an American animated series of comedy short films created by\n",
      "   <a class=\"creator\" href=\"https://en.wikipedia.org/wiki/William_Hanna\" id=\"link1\">\n",
      "    William_Hanna\n",
      "   </a>\n",
      "   and\n",
      "   <a class=\"creator\" href=\"https://en.wikipedia.org/wiki/Joseph_Barbera\" id=\"link2\">\n",
      "    Joseph Barbera\n",
      "   </a>\n",
      "   . \n",
      "        It centers on a rivalry between the title characters\n",
      "   <a class=\"character\" href=\"https://en.wikipedia.org/wiki/Tom_Cat\" id=\"link3\">\n",
      "    Tom\n",
      "   </a>\n",
      "   , a cat, and\n",
      "   <a class=\"character\" href=\"https://en.wikipedia.org/wiki/Jerry_Mouse\" id=\"link4\">\n",
      "    Jerry\n",
      "   </a>\n",
      "   , a mouse.\n",
      "  </p>\n",
      "  <p class=\"comedy story\">\n",
      "   The series features comic fights between an iconic pair of adversaries, \n",
      "            a house cat (Tom) and a mouse (Jerry). The plots of each short usually center on Tom's \n",
      "            numerous attempts to capture Jerry and the mayhem and destruction that follows. \n",
      "            Tom rarely succeeds in catching Jerry, mainly because of Jerry's cleverness, \n",
      "            cunning abilities, and luck.\n",
      "  </p>\n",
      " </body>\n",
      "</html>\n"
     ]
    }
   ],
   "source": [
    "print(soup.prettify())"
   ]
  },
  {
   "cell_type": "code",
   "execution_count": 5,
   "id": "outer-fruit",
   "metadata": {},
   "outputs": [
    {
     "data": {
      "text/plain": [
       "<p class=\"title\"><b>Tom and Jerry</b></p>"
      ]
     },
     "execution_count": 5,
     "metadata": {},
     "output_type": "execute_result"
    }
   ],
   "source": [
    "soup.p"
   ]
  },
  {
   "cell_type": "code",
   "execution_count": 6,
   "id": "informative-immune",
   "metadata": {},
   "outputs": [
    {
     "data": {
      "text/plain": [
       "<p class=\"title\"><b>Tom and Jerry</b></p>"
      ]
     },
     "execution_count": 6,
     "metadata": {},
     "output_type": "execute_result"
    }
   ],
   "source": [
    "soup.find('p')"
   ]
  },
  {
   "cell_type": "code",
   "execution_count": 7,
   "id": "approximate-rolling",
   "metadata": {},
   "outputs": [
    {
     "data": {
      "text/plain": [
       "[<p class=\"title\"><b>Tom and Jerry</b></p>,\n",
       " <p class=\"comedy animated series\">\n",
       "         Tom and Jerry is an American animated series of comedy short films created by \n",
       "         <a class=\"creator\" href=\"https://en.wikipedia.org/wiki/William_Hanna\" id=\"link1\">William_Hanna</a> and  \n",
       "         <a class=\"creator\" href=\"https://en.wikipedia.org/wiki/Joseph_Barbera\" id=\"link2\">Joseph Barbera</a>. \n",
       "         It centers on a rivalry between the title characters\n",
       "         <a class=\"character\" href=\"https://en.wikipedia.org/wiki/Tom_Cat\" id=\"link3\">Tom</a>, a cat, and \n",
       "         <a class=\"character\" href=\"https://en.wikipedia.org/wiki/Jerry_Mouse\" id=\"link4\">Jerry</a>, a mouse.</p>,\n",
       " <p class=\"comedy story\">\n",
       "             The series features comic fights between an iconic pair of adversaries, \n",
       "             a house cat (Tom) and a mouse (Jerry). The plots of each short usually center on Tom's \n",
       "             numerous attempts to capture Jerry and the mayhem and destruction that follows. \n",
       "             Tom rarely succeeds in catching Jerry, mainly because of Jerry's cleverness, \n",
       "             cunning abilities, and luck. \n",
       "         </p>]"
      ]
     },
     "execution_count": 7,
     "metadata": {},
     "output_type": "execute_result"
    }
   ],
   "source": [
    "soup.findAll('p')"
   ]
  },
  {
   "cell_type": "code",
   "execution_count": 8,
   "id": "precious-modeling",
   "metadata": {},
   "outputs": [
    {
     "ename": "NameError",
     "evalue": "name 'p' is not defined",
     "output_type": "error",
     "traceback": [
      "\u001b[1;31m---------------------------------------------------------------------------\u001b[0m",
      "\u001b[1;31mNameError\u001b[0m                                 Traceback (most recent call last)",
      "\u001b[1;32m<ipython-input-8-ac3da7556de6>\u001b[0m in \u001b[0;36m<module>\u001b[1;34m\u001b[0m\n\u001b[1;32m----> 1\u001b[1;33m \u001b[0mp\u001b[0m\u001b[1;33m.\u001b[0m\u001b[0mfind\u001b[0m\u001b[1;33m(\u001b[0m\u001b[1;34m'title'\u001b[0m\u001b[1;33m)\u001b[0m\u001b[1;33m\u001b[0m\u001b[1;33m\u001b[0m\u001b[0m\n\u001b[0m",
      "\u001b[1;31mNameError\u001b[0m: name 'p' is not defined"
     ]
    }
   ],
   "source": [
    "p.find('title')"
   ]
  },
  {
   "cell_type": "code",
   "execution_count": 9,
   "id": "neural-horror",
   "metadata": {},
   "outputs": [
    {
     "data": {
      "text/plain": [
       "<title> The story of Tom and Jerry </title>"
      ]
     },
     "execution_count": 9,
     "metadata": {},
     "output_type": "execute_result"
    }
   ],
   "source": [
    "soup.find('title')"
   ]
  },
  {
   "cell_type": "code",
   "execution_count": 10,
   "id": "applicable-wagon",
   "metadata": {},
   "outputs": [
    {
     "data": {
      "text/plain": [
       "[<title> The story of Tom and Jerry </title>]"
      ]
     },
     "execution_count": 10,
     "metadata": {},
     "output_type": "execute_result"
    }
   ],
   "source": [
    "soup.findAll('title')"
   ]
  },
  {
   "cell_type": "code",
   "execution_count": 11,
   "id": "frozen-behalf",
   "metadata": {},
   "outputs": [],
   "source": [
    "soup.find('story')"
   ]
  },
  {
   "cell_type": "code",
   "execution_count": 12,
   "id": "spectacular-tension",
   "metadata": {},
   "outputs": [],
   "source": [
    "soup.find('comedy story')"
   ]
  },
  {
   "cell_type": "code",
   "execution_count": 13,
   "id": "fundamental-terry",
   "metadata": {},
   "outputs": [
    {
     "data": {
      "text/plain": [
       "[<img alt=\"cartoon_image\" height=\"300\" src=\"TomAndJerry.jpg\" width=\"300\"/>]"
      ]
     },
     "execution_count": 13,
     "metadata": {},
     "output_type": "execute_result"
    }
   ],
   "source": [
    "soup.findAll(src = 'TomAndJerry.jpg')"
   ]
  },
  {
   "cell_type": "code",
   "execution_count": 14,
   "id": "constant-formation",
   "metadata": {},
   "outputs": [
    {
     "ename": "SyntaxError",
     "evalue": "invalid syntax (<ipython-input-14-bb82f5b93d9d>, line 1)",
     "output_type": "error",
     "traceback": [
      "\u001b[1;36m  File \u001b[1;32m\"<ipython-input-14-bb82f5b93d9d>\"\u001b[1;36m, line \u001b[1;32m1\u001b[0m\n\u001b[1;33m    soup.find(class = 'comdey story')\u001b[0m\n\u001b[1;37m              ^\u001b[0m\n\u001b[1;31mSyntaxError\u001b[0m\u001b[1;31m:\u001b[0m invalid syntax\n"
     ]
    }
   ],
   "source": [
    "soup.find(class = 'comdey story')"
   ]
  },
  {
   "cell_type": "code",
   "execution_count": 15,
   "id": "alike-custom",
   "metadata": {},
   "outputs": [
    {
     "data": {
      "text/plain": [
       "<a class=\"creator\" href=\"https://en.wikipedia.org/wiki/William_Hanna\" id=\"link1\">William_Hanna</a>"
      ]
     },
     "execution_count": 15,
     "metadata": {},
     "output_type": "execute_result"
    }
   ],
   "source": [
    "soup.find(re.compile(\"^a\"))"
   ]
  },
  {
   "cell_type": "code",
   "execution_count": 16,
   "id": "faced-cylinder",
   "metadata": {},
   "outputs": [
    {
     "name": "stdout",
     "output_type": "stream",
     "text": [
      "<a class=\"creator\" href=\"https://en.wikipedia.org/wiki/William_Hanna\" id=\"link1\">William_Hanna</a>\n",
      "<a class=\"creator\" href=\"https://en.wikipedia.org/wiki/Joseph_Barbera\" id=\"link2\">Joseph Barbera</a>\n",
      "<a class=\"character\" href=\"https://en.wikipedia.org/wiki/Tom_Cat\" id=\"link3\">Tom</a>\n",
      "<a class=\"character\" href=\"https://en.wikipedia.org/wiki/Jerry_Mouse\" id=\"link4\">Jerry</a>\n"
     ]
    }
   ],
   "source": [
    "for tag in soup.findAll(re.compile(\"^a\")):\n",
    "    print(tag)"
   ]
  },
  {
   "cell_type": "code",
   "execution_count": 17,
   "id": "advanced-strategy",
   "metadata": {},
   "outputs": [
    {
     "data": {
      "text/plain": [
       "<a class=\"creator\" href=\"https://en.wikipedia.org/wiki/William_Hanna\" id=\"link1\">William_Hanna</a>"
      ]
     },
     "execution_count": 17,
     "metadata": {},
     "output_type": "execute_result"
    }
   ],
   "source": [
    "soup.find('a', attrs = {'class': re.compile('^cre')})"
   ]
  },
  {
   "cell_type": "code",
   "execution_count": 18,
   "id": "european-klein",
   "metadata": {},
   "outputs": [
    {
     "ename": "SyntaxError",
     "evalue": "expression cannot contain assignment, perhaps you meant \"==\"? (<ipython-input-18-ea9628525d13>, line 1)",
     "output_type": "error",
     "traceback": [
      "\u001b[1;36m  File \u001b[1;32m\"<ipython-input-18-ea9628525d13>\"\u001b[1;36m, line \u001b[1;32m1\u001b[0m\n\u001b[1;33m    soup.find('class'='comedy story')\u001b[0m\n\u001b[1;37m              ^\u001b[0m\n\u001b[1;31mSyntaxError\u001b[0m\u001b[1;31m:\u001b[0m expression cannot contain assignment, perhaps you meant \"==\"?\n"
     ]
    }
   ],
   "source": [
    "soup.find('class'='comedy story')"
   ]
  },
  {
   "cell_type": "code",
   "execution_count": 19,
   "id": "naked-curtis",
   "metadata": {},
   "outputs": [
    {
     "name": "stdout",
     "output_type": "stream",
     "text": [
      "<a class=\"creator\" href=\"https://en.wikipedia.org/wiki/William_Hanna\" id=\"link1\">William_Hanna</a>\n",
      "<a class=\"creator\" href=\"https://en.wikipedia.org/wiki/Joseph_Barbera\" id=\"link2\">Joseph Barbera</a>\n"
     ]
    }
   ],
   "source": [
    "for tag in soup.findAll('a', attrs = {'class': re.compile('^cre')}):\n",
    "    print(tag)"
   ]
  },
  {
   "cell_type": "code",
   "execution_count": 20,
   "id": "starting-briefs",
   "metadata": {},
   "outputs": [
    {
     "data": {
      "text/plain": [
       "<p class=\"comedy story\">\n",
       "            The series features comic fights between an iconic pair of adversaries, \n",
       "            a house cat (Tom) and a mouse (Jerry). The plots of each short usually center on Tom's \n",
       "            numerous attempts to capture Jerry and the mayhem and destruction that follows. \n",
       "            Tom rarely succeeds in catching Jerry, mainly because of Jerry's cleverness, \n",
       "            cunning abilities, and luck. \n",
       "        </p>"
      ]
     },
     "execution_count": 20,
     "metadata": {},
     "output_type": "execute_result"
    }
   ],
   "source": [
    "soup.find('p', attrs = {'class': 'comedy story'})"
   ]
  },
  {
   "cell_type": "code",
   "execution_count": 21,
   "id": "balanced-salad",
   "metadata": {},
   "outputs": [
    {
     "name": "stdout",
     "output_type": "stream",
     "text": [
      "<a class=\"creator\" href=\"https://en.wikipedia.org/wiki/Joseph_Barbera\" id=\"link2\">Joseph Barbera</a>\n"
     ]
    }
   ],
   "source": [
    "for tag in soup.findAll(id = re.compile(\"2\")):\n",
    "    print(tag)"
   ]
  },
  {
   "cell_type": "code",
   "execution_count": 22,
   "id": "approximate-trader",
   "metadata": {},
   "outputs": [
    {
     "ename": "SyntaxError",
     "evalue": "invalid syntax (<ipython-input-22-a23431983726>, line 1)",
     "output_type": "error",
     "traceback": [
      "\u001b[1;36m  File \u001b[1;32m\"<ipython-input-22-a23431983726>\"\u001b[1;36m, line \u001b[1;32m1\u001b[0m\n\u001b[1;33m    soup.find(class = re.compile(\"story\"))\u001b[0m\n\u001b[1;37m              ^\u001b[0m\n\u001b[1;31mSyntaxError\u001b[0m\u001b[1;31m:\u001b[0m invalid syntax\n"
     ]
    }
   ],
   "source": [
    "soup.find(class = re.compile(\"story\"))"
   ]
  },
  {
   "cell_type": "code",
   "execution_count": null,
   "id": "healthy-structure",
   "metadata": {},
   "outputs": [],
   "source": []
  }
 ],
 "metadata": {
  "kernelspec": {
   "display_name": "Python 3",
   "language": "python",
   "name": "python3"
  },
  "language_info": {
   "codemirror_mode": {
    "name": "ipython",
    "version": 3
   },
   "file_extension": ".py",
   "mimetype": "text/x-python",
   "name": "python",
   "nbconvert_exporter": "python",
   "pygments_lexer": "ipython3",
   "version": "3.9.0"
  }
 },
 "nbformat": 4,
 "nbformat_minor": 5
}
