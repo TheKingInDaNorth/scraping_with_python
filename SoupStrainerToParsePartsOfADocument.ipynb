{
 "cells": [
  {
   "cell_type": "code",
   "execution_count": 1,
   "id": "theoretical-monkey",
   "metadata": {},
   "outputs": [],
   "source": [
    "import re\n",
    "from bs4 import SoupStrainer, BeautifulSoup"
   ]
  },
  {
   "cell_type": "code",
   "execution_count": 3,
   "id": "suitable-vacuum",
   "metadata": {},
   "outputs": [],
   "source": [
    "html_code = \"\"\"\n",
    "<html>\n",
    "<head>\n",
    "    <title> The story of Tom and Jerry </title>\n",
    "</head>\n",
    " <body>\n",
    "    <p class = \"title\"><b>Tom and Jerry</b></p>\n",
    "    <img src = \"TomAndJerry.jpg\" width = \"300\" height = \"300\" alt = \"cartoon_image\"/>\n",
    "    <p class = \"comedy animated series\">\n",
    "        Tom and Jerry is an American animated series of comedy short films created by \n",
    "        <a href = \"https://en.wikipedia.org/wiki/William_Hanna\" class = \"creator\" id = \"link1\" >William_Hanna</a> and  \n",
    "        <a href = \"https://en.wikipedia.org/wiki/Joseph_Barbera\" class = \"creator\" id = \"link2\" >Joseph Barbera</a>. \n",
    "        It centers on a rivalry between the title characters\n",
    "        <a href = \"https://en.wikipedia.org/wiki/Tom_Cat\" class = \"character\" id = \"link3\" >Tom</a>, a cat, and \n",
    "        <a href = \"https://en.wikipedia.org/wiki/Jerry_Mouse\" class = \"character\" id = \"link4\" >Jerry</a>, a mouse.</p> \n",
    "    \n",
    "        <div>\n",
    "                <img src = \"https://upload.wikimedia.org/wikipedia/commons/d/d2/William_Hanna_1977.jpg\" \n",
    "                     width = \"300\" height = \"300\" alt = \"creator_image\" ></img>\n",
    "                <img src = \"https://upload.wikimedia.org/wikipedia/commons/6/67/JBarbera.jpg\" \n",
    "                     width = \"300\" height = \"300\" alt = \"creator_image\"></img>\n",
    "                <img src = \"https://upload.wikimedia.org/wikipedia/en/2/2f/Jerry_Mouse.png\"></img>\n",
    "                <img src = \"https://upload.wikimedia.org/wikipedia/en/f/f6/Tom_Tom_and_Jerry.png\" alt = \"Tom_image\"></img>\n",
    "        </div>\n",
    "        <p class = \"comedy story\">\n",
    "            The series features comic fights between an iconic pair of adversaries, \n",
    "            a house cat (Tom) and a mouse (Jerry). The plots of each short usually center on Tom's \n",
    "            numerous attempts to capture Jerry and the mayhem and destruction that follows. \n",
    "            Tom rarely succeeds in catching Jerry, mainly because of Jerry's cleverness, \n",
    "            cunning abilities, and luck. \n",
    "        </p>\n",
    "        <i>Tom and Jerry show is a full length comedy show</i>\n",
    " </body>\n",
    "</html>\n",
    "\"\"\""
   ]
  },
  {
   "cell_type": "code",
   "execution_count": 4,
   "id": "casual-image",
   "metadata": {},
   "outputs": [],
   "source": [
    "div_tags = SoupStrainer(\"div\")\n"
   ]
  },
  {
   "cell_type": "code",
   "execution_count": 5,
   "id": "regional-thumb",
   "metadata": {},
   "outputs": [
    {
     "name": "stdout",
     "output_type": "stream",
     "text": [
      "<div>\n",
      " <img alt=\"creator_image\" height=\"300\" src=\"https://upload.wikimedia.org/wikipedia/commons/d/d2/William_Hanna_1977.jpg\" width=\"300\"/>\n",
      " <img alt=\"creator_image\" height=\"300\" src=\"https://upload.wikimedia.org/wikipedia/commons/6/67/JBarbera.jpg\" width=\"300\"/>\n",
      " <img src=\"https://upload.wikimedia.org/wikipedia/en/2/2f/Jerry_Mouse.png\"/>\n",
      " <img alt=\"Tom_image\" src=\"https://upload.wikimedia.org/wikipedia/en/f/f6/Tom_Tom_and_Jerry.png\"/>\n",
      "</div>\n"
     ]
    }
   ],
   "source": [
    "soup = BeautifulSoup(html_code, 'lxml', parse_only = div_tags)\n",
    "print(soup.prettify())"
   ]
  },
  {
   "cell_type": "code",
   "execution_count": 6,
   "id": "burning-consequence",
   "metadata": {},
   "outputs": [
    {
     "name": "stdout",
     "output_type": "stream",
     "text": [
      "<div>\n",
      " <img alt=\"creator_image\" height=\"300\" src=\"https://upload.wikimedia.org/wikipedia/commons/d/d2/William_Hanna_1977.jpg\" width=\"300\"/>\n",
      " <img alt=\"creator_image\" height=\"300\" src=\"https://upload.wikimedia.org/wikipedia/commons/6/67/JBarbera.jpg\" width=\"300\"/>\n",
      " <img src=\"https://upload.wikimedia.org/wikipedia/en/2/2f/Jerry_Mouse.png\"/>\n",
      " <img alt=\"Tom_image\" src=\"https://upload.wikimedia.org/wikipedia/en/f/f6/Tom_Tom_and_Jerry.png\"/>\n",
      "</div>\n"
     ]
    }
   ],
   "source": [
    "link_tags = SoupStrainer('a')\n",
    "sopu = BeautifulSoup(html_code, 'lxml', parse_only = link_tags)\n",
    "print(soup.prettify())"
   ]
  },
  {
   "cell_type": "code",
   "execution_count": 7,
   "id": "sonic-penguin",
   "metadata": {},
   "outputs": [],
   "source": [
    "link_tags = SoupStrainer('a')"
   ]
  },
  {
   "cell_type": "code",
   "execution_count": 8,
   "id": "included-killing",
   "metadata": {},
   "outputs": [
    {
     "name": "stdout",
     "output_type": "stream",
     "text": [
      "<a class=\"creator\" href=\"https://en.wikipedia.org/wiki/William_Hanna\" id=\"link1\">\n",
      " William_Hanna\n",
      "</a>\n",
      "<a class=\"creator\" href=\"https://en.wikipedia.org/wiki/Joseph_Barbera\" id=\"link2\">\n",
      " Joseph Barbera\n",
      "</a>\n",
      "<a class=\"character\" href=\"https://en.wikipedia.org/wiki/Tom_Cat\" id=\"link3\">\n",
      " Tom\n",
      "</a>\n",
      "<a class=\"character\" href=\"https://en.wikipedia.org/wiki/Jerry_Mouse\" id=\"link4\">\n",
      " Jerry\n",
      "</a>\n"
     ]
    }
   ],
   "source": [
    "soup = BeautifulSoup(html_code, 'lxml', parse_only = link_tags)\n",
    "print(soup.prettify())"
   ]
  },
  {
   "cell_type": "code",
   "execution_count": 9,
   "id": "offshore-loading",
   "metadata": {},
   "outputs": [],
   "source": [
    "img_tags = SoupStrainer(\"img\")\n"
   ]
  },
  {
   "cell_type": "code",
   "execution_count": 10,
   "id": "statutory-mother",
   "metadata": {},
   "outputs": [
    {
     "name": "stdout",
     "output_type": "stream",
     "text": [
      "<img alt=\"cartoon_image\" height=\"300\" src=\"TomAndJerry.jpg\" width=\"300\"/>\n",
      "<img alt=\"creator_image\" height=\"300\" src=\"https://upload.wikimedia.org/wikipedia/commons/d/d2/William_Hanna_1977.jpg\" width=\"300\"/>\n",
      "<img alt=\"creator_image\" height=\"300\" src=\"https://upload.wikimedia.org/wikipedia/commons/6/67/JBarbera.jpg\" width=\"300\"/>\n",
      "<img src=\"https://upload.wikimedia.org/wikipedia/en/2/2f/Jerry_Mouse.png\"/>\n",
      "<img alt=\"Tom_image\" src=\"https://upload.wikimedia.org/wikipedia/en/f/f6/Tom_Tom_and_Jerry.png\"/>\n",
      "\n"
     ]
    }
   ],
   "source": [
    "soup = BeautifulSoup(html_code, 'lxml', parse_only = img_tags)\n",
    "print(soup.prettify())"
   ]
  },
  {
   "cell_type": "code",
   "execution_count": 11,
   "id": "liked-particle",
   "metadata": {},
   "outputs": [],
   "source": [
    "alt_attr = SoupStrainer(alt = \"creator_image\")"
   ]
  },
  {
   "cell_type": "code",
   "execution_count": 12,
   "id": "executed-remedy",
   "metadata": {},
   "outputs": [
    {
     "name": "stdout",
     "output_type": "stream",
     "text": [
      "<img alt=\"creator_image\" height=\"300\" src=\"https://upload.wikimedia.org/wikipedia/commons/d/d2/William_Hanna_1977.jpg\" width=\"300\"/>\n",
      "<img alt=\"creator_image\" height=\"300\" src=\"https://upload.wikimedia.org/wikipedia/commons/6/67/JBarbera.jpg\" width=\"300\"/>\n",
      "\n"
     ]
    }
   ],
   "source": [
    "soup = BeautifulSoup(html_code, 'lxml', parse_only = alt_attr)\n",
    "print(soup.prettify())"
   ]
  },
  {
   "cell_type": "code",
   "execution_count": 13,
   "id": "animated-registrar",
   "metadata": {},
   "outputs": [],
   "source": [
    "id_attr = SoupStrainer(id = re.compile('link'))"
   ]
  },
  {
   "cell_type": "code",
   "execution_count": 14,
   "id": "descending-walnut",
   "metadata": {},
   "outputs": [
    {
     "name": "stdout",
     "output_type": "stream",
     "text": [
      "<a class=\"creator\" href=\"https://en.wikipedia.org/wiki/William_Hanna\" id=\"link1\">\n",
      " William_Hanna\n",
      "</a>\n",
      "<a class=\"creator\" href=\"https://en.wikipedia.org/wiki/Joseph_Barbera\" id=\"link2\">\n",
      " Joseph Barbera\n",
      "</a>\n",
      "<a class=\"character\" href=\"https://en.wikipedia.org/wiki/Tom_Cat\" id=\"link3\">\n",
      " Tom\n",
      "</a>\n",
      "<a class=\"character\" href=\"https://en.wikipedia.org/wiki/Jerry_Mouse\" id=\"link4\">\n",
      " Jerry\n",
      "</a>\n"
     ]
    }
   ],
   "source": [
    "soup = BeautifulSoup(html_code, 'lxml', parse_only = id_attr)\n",
    "print(soup.prettify())"
   ]
  },
  {
   "cell_type": "code",
   "execution_count": null,
   "id": "adapted-boating",
   "metadata": {},
   "outputs": [],
   "source": []
  }
 ],
 "metadata": {
  "kernelspec": {
   "display_name": "Python 3",
   "language": "python",
   "name": "python3"
  },
  "language_info": {
   "codemirror_mode": {
    "name": "ipython",
    "version": 3
   },
   "file_extension": ".py",
   "mimetype": "text/x-python",
   "name": "python",
   "nbconvert_exporter": "python",
   "pygments_lexer": "ipython3",
   "version": "3.9.0"
  }
 },
 "nbformat": 4,
 "nbformat_minor": 5
}
