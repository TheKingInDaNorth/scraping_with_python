{
 "cells": [
  {
   "cell_type": "code",
   "execution_count": 2,
   "id": "russian-energy",
   "metadata": {},
   "outputs": [
    {
     "name": "stdout",
     "output_type": "stream",
     "text": [
      "Requirement already up-to-date: scrapy in c:\\users\\tuan.vo\\appdata\\local\\programs\\python\\python39\\lib\\site-packages (2.4.1)\n",
      "Requirement already satisfied, skipping upgrade: parsel>=1.5.0 in c:\\users\\tuan.vo\\appdata\\local\\programs\\python\\python39\\lib\\site-packages (from scrapy) (1.6.0)\n",
      "Requirement already satisfied, skipping upgrade: cssselect>=0.9.1 in c:\\users\\tuan.vo\\appdata\\local\\programs\\python\\python39\\lib\\site-packages (from scrapy) (1.1.0)\n",
      "Requirement already satisfied, skipping upgrade: itemadapter>=0.1.0 in c:\\users\\tuan.vo\\appdata\\local\\programs\\python\\python39\\lib\\site-packages (from scrapy) (0.2.0)\n",
      "Requirement already satisfied, skipping upgrade: lxml>=3.5.0; platform_python_implementation == \"CPython\" in c:\\users\\tuan.vo\\appdata\\local\\programs\\python\\python39\\lib\\site-packages (from scrapy) (4.6.2)\n",
      "Requirement already satisfied, skipping upgrade: w3lib>=1.17.0 in c:\\users\\tuan.vo\\appdata\\local\\programs\\python\\python39\\lib\\site-packages (from scrapy) (1.22.0)\n",
      "Note: you may need to restart the kernel to use updated packages.\n"
     ]
    },
    {
     "name": "stderr",
     "output_type": "stream",
     "text": [
      "WARNING: You are using pip version 20.2.3; however, version 21.0.1 is available.\n",
      "You should consider upgrading via the 'c:\\users\\tuan.vo\\appdata\\local\\programs\\python\\python39\\python.exe -m pip install --upgrade pip' command.\n"
     ]
    },
    {
     "name": "stdout",
     "output_type": "stream",
     "text": [
      "Requirement already satisfied, skipping upgrade: service-identity>=16.0.0 in c:\\users\\tuan.vo\\appdata\\local\\programs\\python\\python39\\lib\\site-packages (from scrapy) (18.1.0)\n",
      "Requirement already satisfied, skipping upgrade: cryptography>=2.0 in c:\\users\\tuan.vo\\appdata\\local\\programs\\python\\python39\\lib\\site-packages (from scrapy) (3.4.6)\n",
      "Requirement already satisfied, skipping upgrade: protego>=0.1.15 in c:\\users\\tuan.vo\\appdata\\local\\programs\\python\\python39\\lib\\site-packages (from scrapy) (0.1.16)\n",
      "Requirement already satisfied, skipping upgrade: queuelib>=1.4.2 in c:\\users\\tuan.vo\\appdata\\local\\programs\\python\\python39\\lib\\site-packages (from scrapy) (1.5.0)\n",
      "Requirement already satisfied, skipping upgrade: zope.interface>=4.1.3 in c:\\users\\tuan.vo\\appdata\\local\\programs\\python\\python39\\lib\\site-packages (from scrapy) (5.2.0)\n",
      "Requirement already satisfied, skipping upgrade: Twisted>=17.9.0 in c:\\users\\tuan.vo\\appdata\\local\\programs\\python\\python39\\lib\\site-packages (from scrapy) (21.2.0)\n",
      "Requirement already satisfied, skipping upgrade: PyDispatcher>=2.0.5 in c:\\users\\tuan.vo\\appdata\\local\\programs\\python\\python39\\lib\\site-packages (from scrapy) (2.0.5)\n",
      "Requirement already satisfied, skipping upgrade: itemloaders>=1.0.1 in c:\\users\\tuan.vo\\appdata\\local\\programs\\python\\python39\\lib\\site-packages (from scrapy) (1.0.4)\n",
      "Requirement already satisfied, skipping upgrade: pyOpenSSL>=16.2.0 in c:\\users\\tuan.vo\\appdata\\local\\programs\\python\\python39\\lib\\site-packages (from scrapy) (20.0.1)\n",
      "Requirement already satisfied, skipping upgrade: six>=1.6.0 in c:\\users\\tuan.vo\\appdata\\local\\programs\\python\\python39\\lib\\site-packages (from parsel>=1.5.0->scrapy) (1.15.0)\n",
      "Requirement already satisfied, skipping upgrade: attrs>=16.0.0 in c:\\users\\tuan.vo\\appdata\\local\\programs\\python\\python39\\lib\\site-packages (from service-identity>=16.0.0->scrapy) (20.3.0)\n",
      "Requirement already satisfied, skipping upgrade: pyasn1 in c:\\users\\tuan.vo\\appdata\\local\\programs\\python\\python39\\lib\\site-packages (from service-identity>=16.0.0->scrapy) (0.4.8)\n",
      "Requirement already satisfied, skipping upgrade: pyasn1-modules in c:\\users\\tuan.vo\\appdata\\local\\programs\\python\\python39\\lib\\site-packages (from service-identity>=16.0.0->scrapy) (0.2.8)\n",
      "Requirement already satisfied, skipping upgrade: cffi>=1.12 in c:\\users\\tuan.vo\\appdata\\local\\programs\\python\\python39\\lib\\site-packages (from cryptography>=2.0->scrapy) (1.14.5)\n",
      "Requirement already satisfied, skipping upgrade: setuptools in c:\\users\\tuan.vo\\appdata\\local\\programs\\python\\python39\\lib\\site-packages (from zope.interface>=4.1.3->scrapy) (49.2.1)\n",
      "Requirement already satisfied, skipping upgrade: incremental>=16.10.1 in c:\\users\\tuan.vo\\appdata\\local\\programs\\python\\python39\\lib\\site-packages (from Twisted>=17.9.0->scrapy) (21.3.0)\n",
      "Requirement already satisfied, skipping upgrade: constantly>=15.1 in c:\\users\\tuan.vo\\appdata\\local\\programs\\python\\python39\\lib\\site-packages (from Twisted>=17.9.0->scrapy) (15.1.0)\n",
      "Requirement already satisfied, skipping upgrade: twisted-iocpsupport~=1.0.0; platform_system == \"Windows\" in c:\\users\\tuan.vo\\appdata\\local\\programs\\python\\python39\\lib\\site-packages (from Twisted>=17.9.0->scrapy) (1.0.1)\n",
      "Requirement already satisfied, skipping upgrade: hyperlink>=17.1.1 in c:\\users\\tuan.vo\\appdata\\local\\programs\\python\\python39\\lib\\site-packages (from Twisted>=17.9.0->scrapy) (21.0.0)\n",
      "Requirement already satisfied, skipping upgrade: Automat>=0.8.0 in c:\\users\\tuan.vo\\appdata\\local\\programs\\python\\python39\\lib\\site-packages (from Twisted>=17.9.0->scrapy) (20.2.0)\n",
      "Requirement already satisfied, skipping upgrade: jmespath>=0.9.5 in c:\\users\\tuan.vo\\appdata\\local\\programs\\python\\python39\\lib\\site-packages (from itemloaders>=1.0.1->scrapy) (0.10.0)\n",
      "Requirement already satisfied, skipping upgrade: pycparser in c:\\users\\tuan.vo\\appdata\\local\\programs\\python\\python39\\lib\\site-packages (from cffi>=1.12->cryptography>=2.0->scrapy) (2.20)\n",
      "Requirement already satisfied, skipping upgrade: idna>=2.5 in c:\\users\\tuan.vo\\appdata\\local\\programs\\python\\python39\\lib\\site-packages (from hyperlink>=17.1.1->Twisted>=17.9.0->scrapy) (2.10)\n"
     ]
    }
   ],
   "source": [
    "pip install scrapy --upgrade"
   ]
  },
  {
   "cell_type": "code",
   "execution_count": 3,
   "id": "incorporated-warrior",
   "metadata": {},
   "outputs": [
    {
     "ename": "NameError",
     "evalue": "name 'scrapy' is not defined",
     "output_type": "error",
     "traceback": [
      "\u001b[1;31m---------------------------------------------------------------------------\u001b[0m",
      "\u001b[1;31mNameError\u001b[0m                                 Traceback (most recent call last)",
      "\u001b[1;32m<ipython-input-3-265184ebdf51>\u001b[0m in \u001b[0;36m<module>\u001b[1;34m\u001b[0m\n\u001b[1;32m----> 1\u001b[1;33m \u001b[0mscrapy\u001b[0m\u001b[1;33m\u001b[0m\u001b[1;33m\u001b[0m\u001b[0m\n\u001b[0m",
      "\u001b[1;31mNameError\u001b[0m: name 'scrapy' is not defined"
     ]
    }
   ],
   "source": [
    "scrapy"
   ]
  },
  {
   "cell_type": "code",
   "execution_count": null,
   "id": "allied-token",
   "metadata": {},
   "outputs": [],
   "source": []
  }
 ],
 "metadata": {
  "kernelspec": {
   "display_name": "Python 3",
   "language": "python",
   "name": "python3"
  },
  "language_info": {
   "codemirror_mode": {
    "name": "ipython",
    "version": 3
   },
   "file_extension": ".py",
   "mimetype": "text/x-python",
   "name": "python",
   "nbconvert_exporter": "python",
   "pygments_lexer": "ipython3",
   "version": "3.9.0"
  }
 },
 "nbformat": 4,
 "nbformat_minor": 5
}
